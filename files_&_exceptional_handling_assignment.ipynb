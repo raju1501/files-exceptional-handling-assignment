{
  "nbformat": 4,
  "nbformat_minor": 0,
  "metadata": {
    "colab": {
      "provenance": []
    },
    "kernelspec": {
      "name": "python3",
      "display_name": "Python 3"
    },
    "language_info": {
      "name": "python"
    }
  },
  "cells": [
    {
      "cell_type": "markdown",
      "source": [
        "# Files, exceptional handling, logging and memory management Questions"
      ],
      "metadata": {
        "id": "hjRNhpe3bLps"
      }
    },
    {
      "cell_type": "markdown",
      "source": [
        "1. What is the difference between interpreted and compiled languages?\n",
        "- **Compiled Language:**\n",
        "\n",
        " Code is translated into machine code by a compiler before running.\n",
        "\n",
        " Creates an executable file.\n",
        "\n",
        " Runs faster because it’s already machine code.\n",
        "- **Interpreted Language:**\n",
        "\n",
        " Code is executed line by line by an interpreter at runtime.\n",
        "\n",
        " No executable file is created.\n",
        "\n",
        " Runs slower because translation happens during execution.\n",
        "\n",
        " Example: Python, JavaScript.\n",
        "\n"
      ],
      "metadata": {
        "id": "-r0WLJCfbVjg"
      }
    },
    {
      "cell_type": "markdown",
      "source": [
        "2. What is exception handling in Python?\n",
        "- Exception handling is a way to handle errors that happen while a program is running.\n",
        "\n",
        "\n",
        "- If something goes wrong (like dividing by zero or accessing a missing file), Python raises an exception.\n",
        "\n",
        "- If you don’t handle it, the program crashes.\n",
        "\n",
        "- Exception handling lets you catch these errors and respond gracefully.\n",
        "\n",
        "- **Why to we Use Exception Handling?**\n",
        "\n",
        " To prevent program crashes.\n",
        "\n",
        " To show user-friendly error messages.\n",
        "\n",
        " To handle unexpected situations safely.\n",
        "\n"
      ],
      "metadata": {
        "id": "MQziKpZ-cs2_"
      }
    },
    {
      "cell_type": "markdown",
      "source": [
        "3. What is the purpose of the finally block in exception handling?\n",
        "- **The finally block is used to define code that must run no matter what happens**.\n",
        "\n",
        " It runs whether:\n",
        "\n",
        " An exception occurs.\n",
        "\n",
        " No exception occurs.\n",
        "\n",
        " Even if there’s a return or break in the try or except blocks.\n",
        "\n",
        "- **Main Purpose:**\n",
        "\n",
        " To perform cleanup actions:\n",
        "\n",
        " Closing files.\n",
        "\n",
        " Releasing resources (like network connections, databases).\n",
        "\n",
        " Final statements to tidy up."
      ],
      "metadata": {
        "id": "tkSswcmkekZb"
      }
    },
    {
      "cell_type": "markdown",
      "source": [
        "4. What is logging in Python?\n",
        "- Logging means recording messages about events that happen when your program runs.\n",
        "\n",
        " It helps developers:\n",
        "\n",
        " Track errors.\n",
        "\n",
        " Monitor program flow.\n",
        "\n",
        " Debug and analyze program behavior.\n",
        "\n",
        "-  **Logs can be written to:**\n",
        "\n",
        " Console (screen).\n",
        "\n",
        " Files.\n",
        "\n",
        " External systems (servers, log analyzers)."
      ],
      "metadata": {
        "id": "_OJhdkynfHZw"
      }
    },
    {
      "cell_type": "markdown",
      "source": [
        "5. What is the significance of the __del__ method in Python?\n",
        "- The __del__ method is a destructor in Python.\n",
        "\n",
        "- It is called automatically when an object is about to be destroyed (deleted from memory).\n",
        "\n",
        "- It is used to clean up resources (like closing files, releasing memory, disconnecting databases, etc.)."
      ],
      "metadata": {
        "id": "qKH-Dt8Wfvnq"
      }
    },
    {
      "cell_type": "code",
      "source": [
        "# syntax :\n",
        "class MyClass:\n",
        "    def __del__(self):\n",
        "        print(\"Destructor called. Object is being deleted.\")\n"
      ],
      "metadata": {
        "id": "065hghbEgQoL"
      },
      "execution_count": 1,
      "outputs": []
    },
    {
      "cell_type": "markdown",
      "source": [
        "6. What is the difference between import and from ... import in Python?\n",
        "-  **import Statement :**\n",
        "\n",
        " Imports the entire module.\n",
        "\n",
        " You must use the module name to access its functions, classes, or variables."
      ],
      "metadata": {
        "id": "Oursoja5ggD0"
      }
    },
    {
      "cell_type": "code",
      "source": [
        "# Example:\n",
        "import math\n",
        "\n",
        "print(math.sqrt(16))  # Access using math.sqrt"
      ],
      "metadata": {
        "id": "Q6yb1DMCg6j9"
      },
      "execution_count": null,
      "outputs": []
    },
    {
      "cell_type": "markdown",
      "source": [
        "- **from ... import Statement :**\n",
        "\n",
        " Imports specific items (functions, classes, variables) directly from the module.\n",
        "\n",
        " You don’t need to use the module name to access them."
      ],
      "metadata": {
        "id": "Fl4vQlkIhNbk"
      }
    },
    {
      "cell_type": "code",
      "source": [
        "# Example:\n",
        "from math import sqrt\n",
        "\n",
        "print(sqrt(16))  # Direct access to sqrt\n"
      ],
      "metadata": {
        "id": "lhpABSOthee4"
      },
      "execution_count": null,
      "outputs": []
    },
    {
      "cell_type": "markdown",
      "source": [
        "7. How can you handle multiple exceptions in Python?\n",
        "- **Multiple except Blocks :**\n",
        "\n",
        " You can handle different exceptions separately with multiple except blocks."
      ],
      "metadata": {
        "id": "S_GvMuA4hjju"
      }
    },
    {
      "cell_type": "code",
      "source": [
        "# Example :\n",
        "try:\n",
        "    num = int(input(\"Enter a number: \"))\n",
        "    result = 10 / num\n",
        "except ValueError:\n",
        "    print(\"Invalid input! Please enter a number.\")\n",
        "except ZeroDivisionError:\n",
        "    print(\"Cannot divide by zero!\")"
      ],
      "metadata": {
        "colab": {
          "base_uri": "https://localhost:8080/"
        },
        "id": "z1pf3t6piU88",
        "outputId": "0014628e-addd-4fa3-b7c8-cb1db66377ef"
      },
      "execution_count": 3,
      "outputs": [
        {
          "name": "stdout",
          "output_type": "stream",
          "text": [
            "Enter a number: 2\n"
          ]
        }
      ]
    },
    {
      "cell_type": "markdown",
      "source": [
        "- **Handling Multiple Exceptions in One Block :**\n",
        "\n",
        " You can handle multiple exceptions together using a tuple of exceptions."
      ],
      "metadata": {
        "id": "kLmcw9XJipWg"
      }
    },
    {
      "cell_type": "code",
      "source": [
        "# Example :\n",
        "try:\n",
        "    num = int(input(\"Enter a number: \"))\n",
        "    result = 10 / num\n",
        "except (ValueError, ZeroDivisionError) as e:\n",
        "    print(f\"An error occurred: {e}\")\n"
      ],
      "metadata": {
        "colab": {
          "base_uri": "https://localhost:8080/"
        },
        "id": "RMtMWSATivQ2",
        "outputId": "76e984c9-3994-45aa-c67a-61c4329dd4a8"
      },
      "execution_count": 5,
      "outputs": [
        {
          "name": "stdout",
          "output_type": "stream",
          "text": [
            "Enter a number: 22\n"
          ]
        }
      ]
    },
    {
      "cell_type": "markdown",
      "source": [
        "8. What is the purpose of the with statement when handling files in Python?\n",
        "- The with statement is used to open and work with files safely and easily.\n",
        "\n",
        "- It automatically handles closing the file after the block of code is executed.\n",
        "\n",
        "- Even if an error occurs, the file will be properly closed."
      ],
      "metadata": {
        "id": "Vg4UhLVUi6ne"
      }
    },
    {
      "cell_type": "markdown",
      "source": [
        "9. What is the difference between multithreading and multiprocessing?\n",
        "# - **Multithreading :**\n",
        "\n",
        "- Multiple threads (smaller units) run in the same process.\n",
        "- Threads share the same memory space.\n",
        "- \tEasier communication (shared memory).\n",
        "- Lower overhead (lighter weight).\n",
        "- Useful for I/O-bound tasks (e.g., network, file I/O).\n",
        "# - **Multiprocessing :**\n",
        "- Multiple processes run independently.\n",
        "- Processes have separate memory spaces.\n",
        "- Requires IPC (Inter-Process Communication).\n",
        "- Higher overhead (more resource intensive).\n",
        "- Useful for CPU-bound tasks (heavy computation)."
      ],
      "metadata": {
        "id": "68-GwHJzjLMC"
      }
    },
    {
      "cell_type": "markdown",
      "source": [
        "10. What are the advantages of using logging in a program?\n",
        "\n",
        " 1.**Helps with Debugging :**\n",
        "\n",
        "- Logs provide detailed information about the program’s execution and errors, making it easier to find and fix bugs.\n",
        "\n",
        " 2.**Records Program Behavior :**\n",
        "\n",
        "- Logs track what happened and when, useful for understanding how the program behaved over time.\n",
        "\n",
        " 3.**Easier Maintenance and Monitoring :**\n",
        "- Logs help monitor applications in production to detect issues early and ensure smooth operation.\n",
        "\n",
        " 4.**Persistent Record :**\n",
        "- Unlike print() statements, logs can be saved to files, databases, or remote servers for future analysis.\n",
        "\n",
        " 5.**Flexible Output Options :**\n",
        "- You can configure logs to go to different destinations: console, files, or external systems.\n",
        "\n",
        " 6.**Enables Auditing and Compliance :**\n",
        "- Logs provide an audit trail for security, compliance, and accountability.\n"
      ],
      "metadata": {
        "id": "NNcmFGmTlbDH"
      }
    },
    {
      "cell_type": "markdown",
      "source": [
        "11. What is memory management in Python?\n",
        "- Memory management is how Python allocates, uses, and frees up memory during program execution.\n",
        "\n",
        "- It ensures your program runs efficiently without running out of memory or leaking resources.\n",
        "\n"
      ],
      "metadata": {
        "id": "-W_KWnDZnMhH"
      }
    },
    {
      "cell_type": "markdown",
      "source": [
        "12. What are the basic steps involved in exception handling in Python?\n",
        "#  Basic Steps in Exception Handling\n",
        "- Write the risky code inside a try block\n",
        "\n",
        " This is the code that might raise an exception.\n",
        "\n",
        "- Handle specific exceptions using except blocks\n",
        "\n",
        " Define one or more except blocks to catch and respond to different exceptions.\n",
        "\n",
        "- Optionally use an else block\n",
        "\n",
        " Runs if no exception occurs in the try block.\n",
        "\n",
        "- Optionally use a finally block\n",
        "\n",
        " Runs always, whether an exception occurred or not, for cleanup actions."
      ],
      "metadata": {
        "id": "TVO9YftenapJ"
      }
    },
    {
      "cell_type": "markdown",
      "source": [
        "13. Why is memory management important in Python?\n",
        "- **Efficient Resource Usage :**\n",
        "\n",
        " Memory is a limited resource.\n",
        "\n",
        " Good memory management ensures that your program doesn’t use more memory than needed.\n",
        "\n",
        " Prevents slowdowns, crashes, or out-of-memory errors.\n",
        "- **Prevents Memory Leaks :**\n",
        "\n",
        " Poor coding practices (like keeping unnecessary references) can cause memory leaks.\n",
        "\n",
        " Good memory management frees unused memory, keeping your program healthy.\n",
        "- **Improves Performance :**\n",
        "\n",
        " Efficient memory usage leads to faster execution.\n",
        "\n",
        " Less memory overhead means your program runs smoothly and quickly.\n",
        "\n",
        "- **Enables Scalability :**\n",
        "\n",
        " Programs that manage memory well can handle larger data sets and more users.\n",
        "\n",
        " Essential for large applications, web services, or scientific computing.\n",
        "\n",
        "-  Good for Multi-threading & Multi-processing\n",
        "\n",
        " Efficient memory management is crucial when dealing with concurrent tasks to avoid unnecessary resource consumption."
      ],
      "metadata": {
        "id": "ANnAzzB7oAmQ"
      }
    },
    {
      "cell_type": "markdown",
      "source": [
        "14. What is the role of try and except in exception handling?\n",
        "# try Block:\n",
        "\n",
        "- The try block is where you write code that might cause an exception (error).\n",
        "\n",
        "- Python \"tries\" to run this code.\n",
        "\n",
        "- If an error occurs, Python immediately jumps to the except block.\n",
        "\n",
        " # except Block:\n",
        "\n",
        "- The except block catches and handles the exception.\n",
        "\n",
        "- You can display a friendly error message, log the error, or take corrective actions.\n",
        "\n",
        "- Prevents the program from crashing unexpectedly."
      ],
      "metadata": {
        "id": "KkPqSTCopP8W"
      }
    },
    {
      "cell_type": "markdown",
      "source": [
        "15. How does Python's garbage collection system work?\n",
        "- Python’s garbage collection (GC) system is responsible for automatically managing memory by freeing up unused objects.\n",
        "\n",
        " # Key Components of Python's Garbage Collection:\n",
        " 1. Reference Counting\n",
        "\n",
        "- Every object in Python has a reference count (number of references to it).\n",
        "\n",
        "- When the reference count becomes zero, the object is immediately deleted."
      ],
      "metadata": {
        "id": "-2-Wweshprf8"
      }
    },
    {
      "cell_type": "markdown",
      "source": [
        "16. What is the purpose of the else block in exception handling?\n",
        "- The else block is used to define code that should run only if no exceptions occur in the try block.\n",
        "\n",
        "- It is a way to separate normal execution code from error-handling code.\n",
        "\n",
        "- Helps keep the code clean and organized."
      ],
      "metadata": {
        "id": "i4jJTqbbqu8_"
      }
    },
    {
      "cell_type": "markdown",
      "source": [
        "17. What are the common logging levels in Python?\n",
        "- Python’s logging levels help you categorize log messages by severity, making it easier to debug, monitor, and maintain applications."
      ],
      "metadata": {
        "id": "Tx8XWMrcq_ZN"
      }
    },
    {
      "cell_type": "markdown",
      "source": [
        "18. What is the difference between os.fork() and multiprocessing in Python?\n",
        "#  os.fork()\n",
        "- os.fork() is a low-level system call (available on Unix/Linux, not Windows).\n",
        "\n",
        "- It creates a new child process by duplicating the current process.\n",
        "\n",
        "- After the fork, both parent and child processes continue running separately.\n",
        "\n",
        "- You need to manually manage communication and synchronization.\n",
        "\n",
        " # multiprocessing Module\n",
        "- The multiprocessing module provides a high-level API for creating and managing processes.\n",
        "\n",
        "- Cross-platform (works on Windows, Linux, macOS).\n",
        "\n",
        "- Handles process creation, IPC (pipes, queues), synchronization, and shared memory easily.\n",
        "\n",
        "- Supports true parallelism by using multiple CPU cores."
      ],
      "metadata": {
        "id": "sr0X_ZoerovW"
      }
    },
    {
      "cell_type": "markdown",
      "source": [
        "19. What is the importance of closing a file in Python?\n",
        "- Frees Up System Resources\n",
        "\n",
        " Open files consume system resources (like file handles and memory).\n",
        "\n",
        " Closing a file releases these resources back to the system.\n",
        "- Ensures Data is Written to Disk (Flushing Buffers)\n",
        "- Prevents Data Corruption\n",
        "- Avoids File Access Errors\n",
        "- Good Programming Practice\n",
        "\n",
        " Encourages writing safe, robust, and reliable code.\n",
        "\n"
      ],
      "metadata": {
        "id": "o1ECQJ49sQg1"
      }
    },
    {
      "cell_type": "markdown",
      "source": [
        "20. What is the difference between file.read() and file.readline() in Python?\n",
        "- file.read()\n",
        "\n",
        " Reads the entire file content at once as a single string.\n",
        "\n",
        " You can also specify a number of characters to read.\n",
        "\n",
        " Useful for reading small files completely.\n",
        "\n",
        "- file.readline()\n",
        "\n",
        " Reads the file one line at a time.\n",
        "\n",
        " Returns the next line as a string, including the newline character \\n.\n",
        "\n",
        " Useful for processing files line by line, especially large files."
      ],
      "metadata": {
        "id": "Q23Bcc0ts_ME"
      }
    },
    {
      "cell_type": "markdown",
      "source": [
        "21. What is the logging module in Python used for?\n",
        "- The logging module in Python is used to:\n",
        "\n",
        " Record messages about the execution of a program, which can be useful for debugging, monitoring, and auditing.\n",
        ""
      ],
      "metadata": {
        "id": "lz4BXh69uMhP"
      }
    },
    {
      "cell_type": "markdown",
      "source": [
        "22. What is the os module in Python used for in file handling?\n",
        "- The os module provides functions to interact with the operating system.\n",
        "In file handling, it helps perform operations on files and directories that go beyond basic reading/writing (like deleting, renaming, navigating directories, etc.).\n",
        "\n",
        "- Common Uses of os Module in File Handling:\n",
        "\n",
        " File and Directory Management\n",
        "\n",
        " Create a new directory: - os.mkdir('new_folder')\n",
        "\n",
        " Remove a file: - os.remove('file.txt')\n",
        "\n",
        " Remove an empty directory: - os.rmdir('empty_folder')\n"
      ],
      "metadata": {
        "id": "Bd7IzVbwuiRl"
      }
    },
    {
      "cell_type": "markdown",
      "source": [
        "23.  What are the challenges associated with memory management in Python?\n",
        "- Handling Circular References :\n",
        "\n",
        " Python uses reference counting for memory management.\n",
        "- Memory Fragmentation :\n",
        "\n",
        " As objects are allocated and deallocated, memory fragmentation can occur.\n",
        "\n",
        " Fragmentation leads to inefficient use of memory and can cause slowdowns or increased memory usage.\n",
        "\n",
        "- Large Objects and Memory Usage :\n",
        "\n",
        " Large data structures (e.g., big lists, dictionaries) can consume a lot of memory.\n",
        "- Delayed Garbage Collection :\n",
        "\n",
        " Garbage collection of cyclic references happens periodically and not immediately.\n",
        "- Memory Overhead of Python Objects :\n",
        "\n",
        " Python objects have extra memory overhead due to metadata (type info, reference count)."
      ],
      "metadata": {
        "id": "A-w0xry9vomx"
      }
    },
    {
      "cell_type": "markdown",
      "source": [
        "24.  How do you raise an exception manually in Python?\n",
        "- We use the raise statement followed by an exception.\n",
        "- Basic Syntax:\n",
        "\n",
        " (raise ExceptionType(\"Error message\"))\n",
        "\n",
        "- ExceptionType is the type of exception you want to raise (e.g., ValueError, TypeError, RuntimeError, etc.).\n",
        "\n",
        "- You can provide a custom error message as a string.\n",
        "\n",
        "\n"
      ],
      "metadata": {
        "id": "KLj82wUQw9X7"
      }
    },
    {
      "cell_type": "code",
      "source": [
        "# Example\n",
        "def divide(a, b):\n",
        "    if b == 0:\n",
        "        raise ValueError(\"Cannot divide by zero\")\n",
        "    return a / b"
      ],
      "metadata": {
        "id": "7JmdBcDHxuS3"
      },
      "execution_count": 11,
      "outputs": []
    },
    {
      "cell_type": "markdown",
      "source": [
        "25. Why is it important to use multithreading in certain applications?\n",
        " 1. Improves Responsiveness\n",
        "\n",
        "- In applications with user interfaces (GUIs), multithreading keeps the UI responsive while performing background tasks (e.g., loading files, network calls).\n",
        "\n",
        "- Prevents the app from freezing or hanging.\n",
        "\n",
        " 2. Efficient Use of I/O-bound Operations\n",
        "\n",
        "- When an application waits for I/O (disk, network, user input), multithreading allows other threads to run while waiting.\n",
        "\n",
        "- This increases throughput and reduces idle time.\n",
        "\n",
        " 3. Simplifies Program Design\n",
        "\n",
        "- Enables parallel execution of tasks that logically run concurrently (e.g., handling multiple client connections).\n",
        "\n",
        " 4. Better Resource Utilization\n",
        "\n",
        "- For I/O-bound tasks, threads allow better CPU utilization by overlapping waiting periods.\n",
        "\n",
        " 5. Background Processing\n",
        "\n",
        "- Multithreading lets programs perform background tasks (like logging, monitoring, or computations) without interrupting the main flow."
      ],
      "metadata": {
        "id": "VJ7YdnH8ylxG"
      }
    },
    {
      "cell_type": "markdown",
      "source": [
        "# Practical Questions"
      ],
      "metadata": {
        "id": "hgCrukM3zZqq"
      }
    },
    {
      "cell_type": "markdown",
      "source": [
        "1. How can you open a file for writing in Python and write a string to it?"
      ],
      "metadata": {
        "id": "vpoJfo5HzkKQ"
      }
    },
    {
      "cell_type": "code",
      "source": [
        "with open('example.txt', 'w') as file:\n",
        "    file.write(\"Hello, world!\")\n"
      ],
      "metadata": {
        "id": "2X6ChPpezdwl"
      },
      "execution_count": 12,
      "outputs": []
    },
    {
      "cell_type": "code",
      "source": [
        "with open('example.txt', 'a') as file:\n",
        "    file.write(\"\\nAppending this line.\")\n"
      ],
      "metadata": {
        "id": "zgXq7QEhz7nt"
      },
      "execution_count": 13,
      "outputs": []
    },
    {
      "cell_type": "markdown",
      "source": [
        "2.  Write a Python program to read the contents of a file and print each line."
      ],
      "metadata": {
        "id": "c8ANCHpFz-2l"
      }
    },
    {
      "cell_type": "code",
      "source": [
        "# Open the file in read mode\n",
        "with open('example.txt', 'r') as file:\n",
        "    # Loop through each line in the file\n",
        "    for line in file:\n",
        "\n",
        "        print(line.strip())\n"
      ],
      "metadata": {
        "colab": {
          "base_uri": "https://localhost:8080/"
        },
        "id": "v3QLoOGp0Q38",
        "outputId": "38cfc66f-02c1-4cbb-9877-6739675db19d"
      },
      "execution_count": 15,
      "outputs": [
        {
          "output_type": "stream",
          "name": "stdout",
          "text": [
            "Hello, world!\n",
            "Appending this line.\n"
          ]
        }
      ]
    },
    {
      "cell_type": "markdown",
      "source": [
        "3. How would you handle a case where the file doesn't exist while trying to open it for reading?"
      ],
      "metadata": {
        "id": "AgQk41Kn0cR4"
      }
    },
    {
      "cell_type": "code",
      "source": [
        "try:\n",
        "    with open('non_existent_file.txt', 'r') as file:\n",
        "        for line in file:\n",
        "            print(line.strip())\n",
        "except FileNotFoundError:\n",
        "    print(\"Error: The file does not exist.\")\n"
      ],
      "metadata": {
        "colab": {
          "base_uri": "https://localhost:8080/"
        },
        "id": "DX6ntFIg0kBt",
        "outputId": "df4c1934-159a-47e3-d1fe-427107632045"
      },
      "execution_count": 16,
      "outputs": [
        {
          "output_type": "stream",
          "name": "stdout",
          "text": [
            "Error: The file does not exist.\n"
          ]
        }
      ]
    },
    {
      "cell_type": "markdown",
      "source": [
        "4. Write a Python script that reads from one file and writes its content to another file."
      ],
      "metadata": {
        "id": "LIUzNOYf0mM8"
      }
    },
    {
      "cell_type": "code",
      "source": [
        "try:\n",
        "    # Open the source file in read mode\n",
        "    with open('source.txt', 'r') as source_file:\n",
        "        # Open the destination file in write mode\n",
        "        with open('destination.txt', 'w') as dest_file:\n",
        "            # Read and write line by line\n",
        "            for line in source_file:\n",
        "                dest_file.write(line)\n",
        "    print(\"File copied successfully.\")\n",
        "except FileNotFoundError:\n",
        "    print(\"Error: Source file not found.\")\n",
        "except Exception as e:\n",
        "    print(f\"An error occurred: {e}\")\n"
      ],
      "metadata": {
        "colab": {
          "base_uri": "https://localhost:8080/"
        },
        "id": "sa0cOvnG0sUK",
        "outputId": "b739c3ac-67b3-4577-91b2-de5280291944"
      },
      "execution_count": 17,
      "outputs": [
        {
          "output_type": "stream",
          "name": "stdout",
          "text": [
            "Error: Source file not found.\n"
          ]
        }
      ]
    },
    {
      "cell_type": "markdown",
      "source": [
        "5. How would you catch and handle division by zero error in Python"
      ],
      "metadata": {
        "id": "ug42FLmR01vS"
      }
    },
    {
      "cell_type": "code",
      "source": [
        "try:\n",
        "    numerator = 10\n",
        "    denominator = 0\n",
        "    result = numerator / denominator\n",
        "except ZeroDivisionError:\n",
        "    print(\"Error: Division by zero is not allowed.\")\n",
        "else:\n",
        "    print(f\"Result is {result}\")\n"
      ],
      "metadata": {
        "colab": {
          "base_uri": "https://localhost:8080/"
        },
        "id": "3GHQk7l70387",
        "outputId": "9fa67c6b-c096-45b7-b265-538fc77bfe68"
      },
      "execution_count": 18,
      "outputs": [
        {
          "output_type": "stream",
          "name": "stdout",
          "text": [
            "Error: Division by zero is not allowed.\n"
          ]
        }
      ]
    },
    {
      "cell_type": "markdown",
      "source": [
        "6. Write a Python program that logs an error message to a log file when a division by zero exception occurs"
      ],
      "metadata": {
        "id": "ntWaKqY30-av"
      }
    },
    {
      "cell_type": "code",
      "source": [
        "import logging\n",
        "\n",
        "# Configure logging to write to a file named 'error.log'\n",
        "logging.basicConfig(filename='error.log',\n",
        "                    level=logging.ERROR,\n",
        "                    format='%(asctime)s - %(levelname)s - %(message)s')\n",
        "\n",
        "try:\n",
        "    numerator = 10\n",
        "    denominator = 0\n",
        "    result = numerator / denominator\n",
        "except ZeroDivisionError as e:\n",
        "    logging.error(\"Division by zero error occurred: %s\", e)\n",
        "    print(\"An error occurred. Check the log file for details.\")\n",
        "else:\n",
        "    print(f\"Result is {result}\")\n"
      ],
      "metadata": {
        "colab": {
          "base_uri": "https://localhost:8080/"
        },
        "id": "lMP7u_Eq1UPw",
        "outputId": "31b6edaa-9578-4c34-e501-d947f8852089"
      },
      "execution_count": 19,
      "outputs": [
        {
          "output_type": "stream",
          "name": "stderr",
          "text": [
            "ERROR:root:Division by zero error occurred: division by zero\n"
          ]
        },
        {
          "output_type": "stream",
          "name": "stdout",
          "text": [
            "An error occurred. Check the log file for details.\n"
          ]
        }
      ]
    },
    {
      "cell_type": "markdown",
      "source": [
        "7. Write a program to handle a file opening error using exception handling"
      ],
      "metadata": {
        "id": "SakivLmP1cX4"
      }
    },
    {
      "cell_type": "code",
      "source": [
        "try:\n",
        "    # Attempt to open a file that might not exist\n",
        "    with open('non_existent_file.txt', 'r') as file:\n",
        "        content = file.read()\n",
        "        print(content)\n",
        "except FileNotFoundError:\n",
        "    print(\"Error: The file was not found.\")\n",
        "except PermissionError:\n",
        "    print(\"Error: You do not have permission to read the file.\")\n",
        "except Exception as e:\n",
        "    print(f\"An unexpected error occurred: {e}\")\n"
      ],
      "metadata": {
        "colab": {
          "base_uri": "https://localhost:8080/"
        },
        "id": "1pK73b111fEd",
        "outputId": "07751c30-79c4-4d71-b48f-1e5119e7075d"
      },
      "execution_count": 20,
      "outputs": [
        {
          "output_type": "stream",
          "name": "stdout",
          "text": [
            "Error: The file was not found.\n"
          ]
        }
      ]
    },
    {
      "cell_type": "markdown",
      "source": [
        "8. How can you read a file line by line and store its content in a list in Python"
      ],
      "metadata": {
        "id": "eyU_V7n32cbi"
      }
    },
    {
      "cell_type": "code",
      "source": [
        "# Open the file in read mode\n",
        "with open('example.txt', 'r') as file:\n",
        "    # Read lines into a list\n",
        "    lines = file.readlines()\n",
        "\n",
        "# Print the list\n",
        "print(lines)\n"
      ],
      "metadata": {
        "colab": {
          "base_uri": "https://localhost:8080/"
        },
        "id": "JQgsSHjB2ht4",
        "outputId": "44208f6d-e431-49ea-8f19-492db8586224"
      },
      "execution_count": 21,
      "outputs": [
        {
          "output_type": "stream",
          "name": "stdout",
          "text": [
            "['Hello, world!\\n', 'Appending this line.']\n"
          ]
        }
      ]
    },
    {
      "cell_type": "markdown",
      "source": [
        "9. How can you append data to an existing file in Python"
      ],
      "metadata": {
        "id": "huWj9A7V2n9z"
      }
    },
    {
      "cell_type": "code",
      "source": [
        "# Open the file in append mode\n",
        "with open('example.txt', 'a') as file:\n",
        "    # Write new data to the end of the file\n",
        "    file.write(\"\\nThis is a new line appended to the file.\")\n"
      ],
      "metadata": {
        "id": "VM4qFBUA2t9S"
      },
      "execution_count": 22,
      "outputs": []
    },
    {
      "cell_type": "code",
      "source": [
        "new_lines = [\"\\nSecond appended line\", \"\\nThird appended line\"]\n",
        "\n",
        "with open('example.txt', 'a') as file:\n",
        "    file.writelines(new_lines)\n"
      ],
      "metadata": {
        "id": "vzL28V3_2zTS"
      },
      "execution_count": 23,
      "outputs": []
    }
  ]
}